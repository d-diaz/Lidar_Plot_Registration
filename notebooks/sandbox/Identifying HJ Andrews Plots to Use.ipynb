{
 "cells": [
  {
   "cell_type": "code",
   "execution_count": 46,
   "metadata": {},
   "outputs": [],
   "source": [
    "import geopandas as gpd\n",
    "import pandas as pd\n",
    "from shapely.geometry import Polygon, Point\n",
    "import numpy as np"
   ]
  },
  {
   "cell_type": "code",
   "execution_count": 4,
   "metadata": {},
   "outputs": [],
   "source": [
    "df = pd.read_csv('../data/external/hj_andrews/plot_data/TV010_Study Location Information_2017-11-09.csv')"
   ]
  },
  {
   "cell_type": "code",
   "execution_count": 5,
   "metadata": {},
   "outputs": [
    {
     "name": "stdout",
     "output_type": "stream",
     "text": [
      "<class 'pandas.core.frame.DataFrame'>\n",
      "RangeIndex: 173 entries, 0 to 172\n",
      "Data columns (total 11 columns):\n",
      "DBCODE                      173 non-null object\n",
      "LOCATION_CODE               173 non-null object\n",
      "KEYWORD_NAME                173 non-null object\n",
      "WEST_BOUND_COORD_decdeg     168 non-null float64\n",
      "EAST_BOUND_COORD_decdeg     168 non-null float64\n",
      "NORTH_BOUND_COORD_decdeg    168 non-null float64\n",
      "SOUTH_BOUND_COORD_decdeg    168 non-null float64\n",
      "ELEVATION_MAX_meters        73 non-null float64\n",
      "ELEVATION_MIN_meters        73 non-null float64\n",
      "SLOPE_percent               34 non-null float64\n",
      "ASPECT_degrees              29 non-null float64\n",
      "dtypes: float64(8), object(3)\n",
      "memory usage: 14.9+ KB\n"
     ]
    }
   ],
   "source": [
    "df.info()"
   ]
  },
  {
   "cell_type": "code",
   "execution_count": 6,
   "metadata": {},
   "outputs": [
    {
     "data": {
      "text/html": [
       "<div>\n",
       "<style scoped>\n",
       "    .dataframe tbody tr th:only-of-type {\n",
       "        vertical-align: middle;\n",
       "    }\n",
       "\n",
       "    .dataframe tbody tr th {\n",
       "        vertical-align: top;\n",
       "    }\n",
       "\n",
       "    .dataframe thead th {\n",
       "        text-align: right;\n",
       "    }\n",
       "</style>\n",
       "<table border=\"1\" class=\"dataframe\">\n",
       "  <thead>\n",
       "    <tr style=\"text-align: right;\">\n",
       "      <th></th>\n",
       "      <th>DBCODE</th>\n",
       "      <th>LOCATION_CODE</th>\n",
       "      <th>KEYWORD_NAME</th>\n",
       "      <th>WEST_BOUND_COORD_decdeg</th>\n",
       "      <th>EAST_BOUND_COORD_decdeg</th>\n",
       "      <th>NORTH_BOUND_COORD_decdeg</th>\n",
       "      <th>SOUTH_BOUND_COORD_decdeg</th>\n",
       "      <th>ELEVATION_MAX_meters</th>\n",
       "      <th>ELEVATION_MIN_meters</th>\n",
       "      <th>SLOPE_percent</th>\n",
       "      <th>ASPECT_degrees</th>\n",
       "    </tr>\n",
       "  </thead>\n",
       "  <tbody>\n",
       "    <tr>\n",
       "      <th>0</th>\n",
       "      <td>TV010</td>\n",
       "      <td>RS01</td>\n",
       "      <td>Reference Stand RS01; H.J. Andrews EF; Willame...</td>\n",
       "      <td>-122.258821</td>\n",
       "      <td>-122.256948</td>\n",
       "      <td>44.202968</td>\n",
       "      <td>44.201770</td>\n",
       "      <td>559.0</td>\n",
       "      <td>453.0</td>\n",
       "      <td>61.71</td>\n",
       "      <td>163.0</td>\n",
       "    </tr>\n",
       "    <tr>\n",
       "      <th>1</th>\n",
       "      <td>TV010</td>\n",
       "      <td>RS02</td>\n",
       "      <td>Reference Stand RS02; H.J. Andrews EF; Willame...</td>\n",
       "      <td>-122.244050</td>\n",
       "      <td>-122.242509</td>\n",
       "      <td>44.218696</td>\n",
       "      <td>44.217588</td>\n",
       "      <td>535.0</td>\n",
       "      <td>468.0</td>\n",
       "      <td>32.90</td>\n",
       "      <td>237.0</td>\n",
       "    </tr>\n",
       "    <tr>\n",
       "      <th>2</th>\n",
       "      <td>TV010</td>\n",
       "      <td>RS03</td>\n",
       "      <td>Reference Stand RS03; H.J. Andrews EF; Willame...</td>\n",
       "      <td>-122.159804</td>\n",
       "      <td>-122.157874</td>\n",
       "      <td>44.259177</td>\n",
       "      <td>44.258196</td>\n",
       "      <td>987.0</td>\n",
       "      <td>956.0</td>\n",
       "      <td>24.35</td>\n",
       "      <td>195.0</td>\n",
       "    </tr>\n",
       "    <tr>\n",
       "      <th>3</th>\n",
       "      <td>TV010</td>\n",
       "      <td>RS04</td>\n",
       "      <td>Reference Stand RS04; H.J. Andrews EF; Willame...</td>\n",
       "      <td>-122.137691</td>\n",
       "      <td>-122.136822</td>\n",
       "      <td>44.273367</td>\n",
       "      <td>44.272743</td>\n",
       "      <td>1312.0</td>\n",
       "      <td>1276.0</td>\n",
       "      <td>43.61</td>\n",
       "      <td>278.0</td>\n",
       "    </tr>\n",
       "    <tr>\n",
       "      <th>4</th>\n",
       "      <td>TV010</td>\n",
       "      <td>RS05</td>\n",
       "      <td>Reference Stand RS05; H.J. Andrews EF; Willame...</td>\n",
       "      <td>-122.202966</td>\n",
       "      <td>-122.202966</td>\n",
       "      <td>44.221835</td>\n",
       "      <td>44.221835</td>\n",
       "      <td>908.0</td>\n",
       "      <td>908.0</td>\n",
       "      <td>2.76</td>\n",
       "      <td>95.0</td>\n",
       "    </tr>\n",
       "  </tbody>\n",
       "</table>\n",
       "</div>"
      ],
      "text/plain": [
       "  DBCODE              LOCATION_CODE  \\\n",
       "0  TV010  RS01                        \n",
       "1  TV010  RS02                        \n",
       "2  TV010  RS03                        \n",
       "3  TV010  RS04                        \n",
       "4  TV010  RS05                        \n",
       "\n",
       "                                        KEYWORD_NAME  WEST_BOUND_COORD_decdeg  \\\n",
       "0  Reference Stand RS01; H.J. Andrews EF; Willame...              -122.258821   \n",
       "1  Reference Stand RS02; H.J. Andrews EF; Willame...              -122.244050   \n",
       "2  Reference Stand RS03; H.J. Andrews EF; Willame...              -122.159804   \n",
       "3  Reference Stand RS04; H.J. Andrews EF; Willame...              -122.137691   \n",
       "4  Reference Stand RS05; H.J. Andrews EF; Willame...              -122.202966   \n",
       "\n",
       "   EAST_BOUND_COORD_decdeg  NORTH_BOUND_COORD_decdeg  \\\n",
       "0              -122.256948                 44.202968   \n",
       "1              -122.242509                 44.218696   \n",
       "2              -122.157874                 44.259177   \n",
       "3              -122.136822                 44.273367   \n",
       "4              -122.202966                 44.221835   \n",
       "\n",
       "   SOUTH_BOUND_COORD_decdeg  ELEVATION_MAX_meters  ELEVATION_MIN_meters  \\\n",
       "0                 44.201770                 559.0                 453.0   \n",
       "1                 44.217588                 535.0                 468.0   \n",
       "2                 44.258196                 987.0                 956.0   \n",
       "3                 44.272743                1312.0                1276.0   \n",
       "4                 44.221835                 908.0                 908.0   \n",
       "\n",
       "   SLOPE_percent  ASPECT_degrees  \n",
       "0          61.71           163.0  \n",
       "1          32.90           237.0  \n",
       "2          24.35           195.0  \n",
       "3          43.61           278.0  \n",
       "4           2.76            95.0  "
      ]
     },
     "execution_count": 6,
     "metadata": {},
     "output_type": "execute_result"
    }
   ],
   "source": [
    "df.head()"
   ]
  },
  {
   "cell_type": "code",
   "execution_count": null,
   "metadata": {},
   "outputs": [],
   "source": [
    "df['Coordinates'] = list(zip(WEST_BOUND_COORD_decdeg\tEAST_BOUND_COORD_decdeg\tNORTH_BOUND_COORD_decdeg\tSOUTH_BOUND_COORD_decdeg))"
   ]
  },
  {
   "cell_type": "code",
   "execution_count": 7,
   "metadata": {},
   "outputs": [],
   "source": [
    "west = df.WEST_BOUND_COORD_decdeg\n",
    "east = df.EAST_BOUND_COORD_decdeg\n",
    "north = df.NORTH_BOUND_COORD_decdeg\n",
    "south = df.SOUTH_BOUND_COORD_decdeg"
   ]
  },
  {
   "cell_type": "code",
   "execution_count": 8,
   "metadata": {},
   "outputs": [
    {
     "name": "stdout",
     "output_type": "stream",
     "text": [
      "('a', 'c')\n",
      "('c', 'e')\n",
      "('d', 'e')\n"
     ]
    }
   ],
   "source": [
    "list1 = ['a', 'c', 'd']\n",
    "list2 = ['c', 'e', 'e']\n",
    "\n",
    "for x in zip(list1, list2):\n",
    "    print(x)"
   ]
  },
  {
   "cell_type": "code",
   "execution_count": 29,
   "metadata": {},
   "outputs": [
    {
     "data": {
      "text/plain": [
       "(346,)"
      ]
     },
     "execution_count": 29,
     "metadata": {},
     "output_type": "execute_result"
    }
   ],
   "source": [
    "np.concatenate((west.values, west.values)).shape"
   ]
  },
  {
   "cell_type": "code",
   "execution_count": 56,
   "metadata": {},
   "outputs": [
    {
     "name": "stderr",
     "output_type": "stream",
     "text": [
      "IllegalArgumentException: Points of LinearRing do not form a closed linestring\n",
      "Shell is not a LinearRing\n",
      "IllegalArgumentException: Points of LinearRing do not form a closed linestring\n",
      "Shell is not a LinearRing\n",
      "IllegalArgumentException: Points of LinearRing do not form a closed linestring\n",
      "Shell is not a LinearRing\n",
      "IllegalArgumentException: Points of LinearRing do not form a closed linestring\n",
      "Shell is not a LinearRing\n",
      "IllegalArgumentException: Points of LinearRing do not form a closed linestring\n",
      "Shell is not a LinearRing\n"
     ]
    }
   ],
   "source": [
    "polys = []\n",
    "for idx, row in df.iterrows():\n",
    "    polys.append(Polygon([(row['WEST_BOUND_COORD_decdeg'],row['SOUTH_BOUND_COORD_decdeg']),\n",
    "                          (row['WEST_BOUND_COORD_decdeg'],row['NORTH_BOUND_COORD_decdeg']),\n",
    "                          (row['EAST_BOUND_COORD_decdeg'],row['NORTH_BOUND_COORD_decdeg']),\n",
    "                          (row['EAST_BOUND_COORD_decdeg'],row['SOUTH_BOUND_COORD_decdeg'])]))"
   ]
  },
  {
   "cell_type": "code",
   "execution_count": 57,
   "metadata": {},
   "outputs": [
    {
     "data": {
      "text/plain": [
       "[<shapely.geometry.polygon.Polygon at 0x7f3f4db136a0>,\n",
       " <shapely.geometry.polygon.Polygon at 0x7f3f4db13fd0>,\n",
       " <shapely.geometry.polygon.Polygon at 0x7f3f4db150b8>,\n",
       " <shapely.geometry.polygon.Polygon at 0x7f3f4db150f0>,\n",
       " <shapely.geometry.polygon.Polygon at 0x7f3f4db15128>,\n",
       " <shapely.geometry.polygon.Polygon at 0x7f3f4db15160>,\n",
       " <shapely.geometry.polygon.Polygon at 0x7f3f4db15198>,\n",
       " <shapely.geometry.polygon.Polygon at 0x7f3f4db151d0>,\n",
       " <shapely.geometry.polygon.Polygon at 0x7f3f4db15208>,\n",
       " <shapely.geometry.polygon.Polygon at 0x7f3f4db15240>,\n",
       " <shapely.geometry.polygon.Polygon at 0x7f3f4db15278>,\n",
       " <shapely.geometry.polygon.Polygon at 0x7f3f4db152b0>,\n",
       " <shapely.geometry.polygon.Polygon at 0x7f3f4db152e8>,\n",
       " <shapely.geometry.polygon.Polygon at 0x7f3f4db15320>,\n",
       " <shapely.geometry.polygon.Polygon at 0x7f3f4db15358>,\n",
       " <shapely.geometry.polygon.Polygon at 0x7f3f4db15390>,\n",
       " <shapely.geometry.polygon.Polygon at 0x7f3f4db153c8>,\n",
       " <shapely.geometry.polygon.Polygon at 0x7f3f4db15400>,\n",
       " <shapely.geometry.polygon.Polygon at 0x7f3f4db15438>,\n",
       " <shapely.geometry.polygon.Polygon at 0x7f3f4db15470>,\n",
       " <shapely.geometry.polygon.Polygon at 0x7f3f4db154a8>,\n",
       " <shapely.geometry.polygon.Polygon at 0x7f3f4db154e0>,\n",
       " <shapely.geometry.polygon.Polygon at 0x7f3f4db15518>,\n",
       " <shapely.geometry.polygon.Polygon at 0x7f3f4db15550>,\n",
       " <shapely.geometry.polygon.Polygon at 0x7f3f4db15588>,\n",
       " <shapely.geometry.polygon.Polygon at 0x7f3f4db155c0>,\n",
       " <shapely.geometry.polygon.Polygon at 0x7f3f4db155f8>,\n",
       " <shapely.geometry.polygon.Polygon at 0x7f3f4db15630>,\n",
       " <shapely.geometry.polygon.Polygon at 0x7f3f4db15668>,\n",
       " <shapely.geometry.polygon.Polygon at 0x7f3f4db15048>,\n",
       " <shapely.geometry.polygon.Polygon at 0x7f3f4db15080>,\n",
       " <shapely.geometry.polygon.Polygon at 0x7f3f4db156a0>,\n",
       " <shapely.geometry.polygon.Polygon at 0x7f3f4db156d8>,\n",
       " <shapely.geometry.polygon.Polygon at 0x7f3f4db15710>,\n",
       " <shapely.geometry.polygon.Polygon at 0x7f3f4db15748>,\n",
       " <shapely.geometry.polygon.Polygon at 0x7f3f4db15780>,\n",
       " <shapely.geometry.polygon.Polygon at 0x7f3f4db157b8>,\n",
       " <shapely.geometry.polygon.Polygon at 0x7f3f4db157f0>,\n",
       " <shapely.geometry.polygon.Polygon at 0x7f3f4db15828>,\n",
       " <shapely.geometry.polygon.Polygon at 0x7f3f4db15860>,\n",
       " <shapely.geometry.polygon.Polygon at 0x7f3f4db15898>,\n",
       " <shapely.geometry.polygon.Polygon at 0x7f3f4db158d0>,\n",
       " <shapely.geometry.polygon.Polygon at 0x7f3f4db15908>,\n",
       " <shapely.geometry.polygon.Polygon at 0x7f3f4db15940>,\n",
       " <shapely.geometry.polygon.Polygon at 0x7f3f4db15978>,\n",
       " <shapely.geometry.polygon.Polygon at 0x7f3f4de23828>,\n",
       " <shapely.geometry.polygon.Polygon at 0x7f3f4de23dd8>,\n",
       " <shapely.geometry.polygon.Polygon at 0x7f3f4db159b0>,\n",
       " <shapely.geometry.polygon.Polygon at 0x7f3f4db159e8>,\n",
       " <shapely.geometry.polygon.Polygon at 0x7f3f4db15a20>,\n",
       " <shapely.geometry.polygon.Polygon at 0x7f3f4db15a90>,\n",
       " <shapely.geometry.polygon.Polygon at 0x7f3f4db15a58>,\n",
       " <shapely.geometry.polygon.Polygon at 0x7f3f4db15b00>,\n",
       " <shapely.geometry.polygon.Polygon at 0x7f3f4db15ac8>,\n",
       " <shapely.geometry.polygon.Polygon at 0x7f3f4db15b38>,\n",
       " <shapely.geometry.polygon.Polygon at 0x7f3f4db15b70>,\n",
       " <shapely.geometry.polygon.Polygon at 0x7f3f4db15ba8>,\n",
       " <shapely.geometry.polygon.Polygon at 0x7f3f4db15be0>,\n",
       " <shapely.geometry.polygon.Polygon at 0x7f3f4db15c18>,\n",
       " <shapely.geometry.polygon.Polygon at 0x7f3f4db15c50>,\n",
       " <shapely.geometry.polygon.Polygon at 0x7f3f4db15c88>,\n",
       " <shapely.geometry.polygon.Polygon at 0x7f3f4db15cc0>,\n",
       " <shapely.geometry.polygon.Polygon at 0x7f3f4db15cf8>,\n",
       " <shapely.geometry.polygon.Polygon at 0x7f3f4db15d30>,\n",
       " <shapely.geometry.polygon.Polygon at 0x7f3f4db15d68>,\n",
       " <shapely.geometry.polygon.Polygon at 0x7f3f4db15da0>,\n",
       " <shapely.geometry.polygon.Polygon at 0x7f3f4db15dd8>,\n",
       " <shapely.geometry.polygon.Polygon at 0x7f3f4db15e10>,\n",
       " <shapely.geometry.polygon.Polygon at 0x7f3f4db15e48>,\n",
       " <shapely.geometry.polygon.Polygon at 0x7f3f4db15e80>,\n",
       " <shapely.geometry.polygon.Polygon at 0x7f3f4db15eb8>,\n",
       " <shapely.geometry.polygon.Polygon at 0x7f3f4db15ef0>,\n",
       " <shapely.geometry.polygon.Polygon at 0x7f3f4db15f28>,\n",
       " <shapely.geometry.polygon.Polygon at 0x7f3f4db15f60>,\n",
       " <shapely.geometry.polygon.Polygon at 0x7f3f4db15f98>,\n",
       " <shapely.geometry.polygon.Polygon at 0x7f3f4db15fd0>,\n",
       " <shapely.geometry.polygon.Polygon at 0x7f3f4dab4048>,\n",
       " <shapely.geometry.polygon.Polygon at 0x7f3f4dab4080>,\n",
       " <shapely.geometry.polygon.Polygon at 0x7f3f4dab40b8>,\n",
       " <shapely.geometry.polygon.Polygon at 0x7f3f4dab40f0>,\n",
       " <shapely.geometry.polygon.Polygon at 0x7f3f4dab4128>,\n",
       " <shapely.geometry.polygon.Polygon at 0x7f3f4dab4160>,\n",
       " <shapely.geometry.polygon.Polygon at 0x7f3f4dab4198>,\n",
       " <shapely.geometry.polygon.Polygon at 0x7f3f4dab41d0>,\n",
       " <shapely.geometry.polygon.Polygon at 0x7f3f4dab4208>,\n",
       " <shapely.geometry.polygon.Polygon at 0x7f3f4dab4240>,\n",
       " <shapely.geometry.polygon.Polygon at 0x7f3f4dab4278>,\n",
       " <shapely.geometry.polygon.Polygon at 0x7f3f4dab42b0>,\n",
       " <shapely.geometry.polygon.Polygon at 0x7f3f4dab42e8>,\n",
       " <shapely.geometry.polygon.Polygon at 0x7f3f4dab4320>,\n",
       " <shapely.geometry.polygon.Polygon at 0x7f3f4dab4358>,\n",
       " <shapely.geometry.polygon.Polygon at 0x7f3f4dab4390>,\n",
       " <shapely.geometry.polygon.Polygon at 0x7f3f4dab43c8>,\n",
       " <shapely.geometry.polygon.Polygon at 0x7f3f4dab4400>,\n",
       " <shapely.geometry.polygon.Polygon at 0x7f3f4dab4438>,\n",
       " <shapely.geometry.polygon.Polygon at 0x7f3f4dab4470>,\n",
       " <shapely.geometry.polygon.Polygon at 0x7f3f4dab44a8>,\n",
       " <shapely.geometry.polygon.Polygon at 0x7f3f4dab44e0>,\n",
       " <shapely.geometry.polygon.Polygon at 0x7f3f4dab4518>,\n",
       " <shapely.geometry.polygon.Polygon at 0x7f3f4dab4550>,\n",
       " <shapely.geometry.polygon.Polygon at 0x7f3f4dab4588>,\n",
       " <shapely.geometry.polygon.Polygon at 0x7f3f4dab45c0>,\n",
       " <shapely.geometry.polygon.Polygon at 0x7f3f4dab45f8>,\n",
       " <shapely.geometry.polygon.Polygon at 0x7f3f4dab4630>,\n",
       " <shapely.geometry.polygon.Polygon at 0x7f3f4dab4668>,\n",
       " <shapely.geometry.polygon.Polygon at 0x7f3f4dab46a0>,\n",
       " <shapely.geometry.polygon.Polygon at 0x7f3f4dab46d8>,\n",
       " <shapely.geometry.polygon.Polygon at 0x7f3f4dab4710>,\n",
       " <shapely.geometry.polygon.Polygon at 0x7f3f4dab4748>,\n",
       " <shapely.geometry.polygon.Polygon at 0x7f3f4dab4780>,\n",
       " <shapely.geometry.polygon.Polygon at 0x7f3f4dab47b8>,\n",
       " <shapely.geometry.polygon.Polygon at 0x7f3f4dab47f0>,\n",
       " <shapely.geometry.polygon.Polygon at 0x7f3f4dab4828>,\n",
       " <shapely.geometry.polygon.Polygon at 0x7f3f4dab4860>,\n",
       " <shapely.geometry.polygon.Polygon at 0x7f3f4dab4898>,\n",
       " <shapely.geometry.polygon.Polygon at 0x7f3f4dab48d0>,\n",
       " <shapely.geometry.polygon.Polygon at 0x7f3f4dd2b080>,\n",
       " <shapely.geometry.polygon.Polygon at 0x7f3f4dab4908>,\n",
       " <shapely.geometry.polygon.Polygon at 0x7f3f4dab49b0>,\n",
       " <shapely.geometry.polygon.Polygon at 0x7f3f4dab4940>,\n",
       " <shapely.geometry.polygon.Polygon at 0x7f3f4dab4978>,\n",
       " <shapely.geometry.polygon.Polygon at 0x7f3f4dab49e8>,\n",
       " <shapely.geometry.polygon.Polygon at 0x7f3f4dab4a58>,\n",
       " <shapely.geometry.polygon.Polygon at 0x7f3f4dab4a90>,\n",
       " <shapely.geometry.polygon.Polygon at 0x7f3f4dab4ac8>,\n",
       " <shapely.geometry.polygon.Polygon at 0x7f3f4dab4b00>,\n",
       " <shapely.geometry.polygon.Polygon at 0x7f3f4dab4b38>,\n",
       " <shapely.geometry.polygon.Polygon at 0x7f3f4dab4b70>,\n",
       " <shapely.geometry.polygon.Polygon at 0x7f3f4dab4ba8>,\n",
       " <shapely.geometry.polygon.Polygon at 0x7f3f4dab4be0>,\n",
       " <shapely.geometry.polygon.Polygon at 0x7f3f4dab4c18>,\n",
       " <shapely.geometry.polygon.Polygon at 0x7f3f4dab4c50>,\n",
       " <shapely.geometry.polygon.Polygon at 0x7f3f4dab4c88>,\n",
       " <shapely.geometry.polygon.Polygon at 0x7f3f4dab4cc0>,\n",
       " <shapely.geometry.polygon.Polygon at 0x7f3f4dab4cf8>,\n",
       " <shapely.geometry.polygon.Polygon at 0x7f3f4dab4d30>,\n",
       " <shapely.geometry.polygon.Polygon at 0x7f3f4dab4d68>,\n",
       " <shapely.geometry.polygon.Polygon at 0x7f3f4dab4da0>,\n",
       " <shapely.geometry.polygon.Polygon at 0x7f3f4dab4dd8>,\n",
       " <shapely.geometry.polygon.Polygon at 0x7f3f4dab4e10>,\n",
       " <shapely.geometry.polygon.Polygon at 0x7f3f4dab4e48>,\n",
       " <shapely.geometry.polygon.Polygon at 0x7f3f4dab4e80>,\n",
       " <shapely.geometry.polygon.Polygon at 0x7f3f4dab4eb8>,\n",
       " <shapely.geometry.polygon.Polygon at 0x7f3f4dab4ef0>,\n",
       " <shapely.geometry.polygon.Polygon at 0x7f3f4dab4f28>,\n",
       " <shapely.geometry.polygon.Polygon at 0x7f3f4dab4f60>,\n",
       " <shapely.geometry.polygon.Polygon at 0x7f3f4dab4f98>,\n",
       " <shapely.geometry.polygon.Polygon at 0x7f3f4dab4fd0>,\n",
       " <shapely.geometry.polygon.Polygon at 0x7f3f4dab8048>,\n",
       " <shapely.geometry.polygon.Polygon at 0x7f3f4dab8080>,\n",
       " <shapely.geometry.polygon.Polygon at 0x7f3f4dab80b8>,\n",
       " <shapely.geometry.polygon.Polygon at 0x7f3f4dab80f0>,\n",
       " <shapely.geometry.polygon.Polygon at 0x7f3f4dab8128>,\n",
       " <shapely.geometry.polygon.Polygon at 0x7f3f4dab8160>,\n",
       " <shapely.geometry.polygon.Polygon at 0x7f3f4dab8198>,\n",
       " <shapely.geometry.polygon.Polygon at 0x7f3f4dab8208>,\n",
       " <shapely.geometry.polygon.Polygon at 0x7f3f4dab82b0>,\n",
       " <shapely.geometry.polygon.Polygon at 0x7f3f4dab8320>,\n",
       " <shapely.geometry.polygon.Polygon at 0x7f3f4dab8400>,\n",
       " <shapely.geometry.polygon.Polygon at 0x7f3f4dab83c8>,\n",
       " <shapely.geometry.polygon.Polygon at 0x7f3f4dab8470>,\n",
       " <shapely.geometry.polygon.Polygon at 0x7f3f4dab8438>,\n",
       " <shapely.geometry.polygon.Polygon at 0x7f3f4dab8390>,\n",
       " <shapely.geometry.polygon.Polygon at 0x7f3f4dab84a8>,\n",
       " <shapely.geometry.polygon.Polygon at 0x7f3f4dab84e0>,\n",
       " <shapely.geometry.polygon.Polygon at 0x7f3f4dab8518>,\n",
       " <shapely.geometry.polygon.Polygon at 0x7f3f4dab8550>,\n",
       " <shapely.geometry.polygon.Polygon at 0x7f3f4dab8588>,\n",
       " <shapely.geometry.polygon.Polygon at 0x7f3f4dab85c0>,\n",
       " <shapely.geometry.polygon.Polygon at 0x7f3f4dab85f8>,\n",
       " <shapely.geometry.polygon.Polygon at 0x7f3f4dab8630>,\n",
       " <shapely.geometry.polygon.Polygon at 0x7f3f4dab8668>,\n",
       " <shapely.geometry.polygon.Polygon at 0x7f3f4dab86a0>]"
      ]
     },
     "execution_count": 57,
     "metadata": {},
     "output_type": "execute_result"
    }
   ],
   "source": [
    "polys"
   ]
  },
  {
   "cell_type": "code",
   "execution_count": 59,
   "metadata": {},
   "outputs": [],
   "source": [
    "crs = {'init': 'epsg:4326'}\n",
    "gdf = gpd.GeoDataFrame(df, crs=crs, geometry=polys)"
   ]
  },
  {
   "cell_type": "code",
   "execution_count": 85,
   "metadata": {},
   "outputs": [
    {
     "data": {
      "text/plain": [
       "<matplotlib.axes._subplots.AxesSubplot at 0x7f3f4c1fdc50>"
      ]
     },
     "execution_count": 85,
     "metadata": {},
     "output_type": "execute_result"
    },
    {
     "data": {
      "image/png": "[encoded data removed]",
      "text/plain": [
       "<Figure size 432x288 with 1 Axes>"
      ]
     },
     "metadata": {
      "needs_background": "light"
     },
     "output_type": "display_data"
    }
   ],
   "source": [
    "gdf.plot()"
   ]
  },
  {
   "cell_type": "code",
   "execution_count": 63,
   "metadata": {},
   "outputs": [],
   "source": [
    "gdf = gdf.loc[~gdf.geometry.isnull()]"
   ]
  },
  {
   "cell_type": "code",
   "execution_count": 64,
   "metadata": {},
   "outputs": [
    {
     "data": {
      "text/plain": [
       "<matplotlib.axes._subplots.AxesSubplot at 0x7f3f4c202dd8>"
      ]
     },
     "execution_count": 64,
     "metadata": {},
     "output_type": "execute_result"
    },
    {
     "data": {
      "image/png": "[encoded data removed]",
      "text/plain": [
       "<Figure size 432x288 with 1 Axes>"
      ]
     },
     "metadata": {
      "needs_background": "light"
     },
     "output_type": "display_data"
    }
   ],
   "source": [
    "gdf.plot()"
   ]
  },
  {
   "cell_type": "code",
   "execution_count": 65,
   "metadata": {},
   "outputs": [],
   "source": [
    "gdf.to_file('../data/interim/hj_andrews_plots.shp')"
   ]
  },
  {
   "cell_type": "code",
   "execution_count": 68,
   "metadata": {},
   "outputs": [
    {
     "data": {
      "text/plain": [
       "Index(['DBCODE', 'LOCATION_CODE', 'KEYWORD_NAME', 'WEST_BOUND_COORD_decdeg',\n",
       "       'EAST_BOUND_COORD_decdeg', 'NORTH_BOUND_COORD_decdeg',\n",
       "       'SOUTH_BOUND_COORD_decdeg', 'ELEVATION_MAX_meters',\n",
       "       'ELEVATION_MIN_meters', 'SLOPE_percent', 'ASPECT_degrees', 'geometry'],\n",
       "      dtype='object')"
      ]
     },
     "execution_count": 68,
     "metadata": {},
     "output_type": "execute_result"
    }
   ],
   "source": [
    "gdf.columns"
   ]
  },
  {
   "cell_type": "code",
   "execution_count": 75,
   "metadata": {},
   "outputs": [
    {
     "name": "stdout",
     "output_type": "stream",
     "text": [
      "   WEST_BOUND_COORD_decdeg  EAST_BOUND_COORD_decdeg  NORTH_BOUND_COORD_decdeg  \\\n",
      "0              -122.258821              -122.256948                 44.202968   \n",
      "\n",
      "   SOUTH_BOUND_COORD_decdeg  \n",
      "0                  44.20177  \n"
     ]
    }
   ],
   "source": [
    "mycols = ['WEST_BOUND_COORD_decdeg',\n",
    "       'EAST_BOUND_COORD_decdeg', 'NORTH_BOUND_COORD_decdeg',\n",
    "       'SOUTH_BOUND_COORD_decdeg']\n",
    "print(gdf[mycols].head(1))\n"
   ]
  },
  {
   "cell_type": "code",
   "execution_count": 84,
   "metadata": {},
   "outputs": [
    {
     "data": {
      "text/plain": [
       "[(-122.25882057, 44.20177046),\n",
       " (-122.25882057, 44.2029685),\n",
       " (-122.25694806, 44.2029685),\n",
       " (-122.25694806, 44.20177046),\n",
       " (-122.25882057, 44.20177046)]"
      ]
     },
     "execution_count": 84,
     "metadata": {},
     "output_type": "execute_result"
    }
   ],
   "source": [
    "list(gdf.geometry.iloc[0].exterior.coords)"
   ]
  },
  {
   "cell_type": "code",
   "execution_count": 86,
   "metadata": {},
   "outputs": [
    {
     "data": {
      "text/plain": [
       "<matplotlib.axes._subplots.AxesSubplot at 0x7f3f4c123eb8>"
      ]
     },
     "execution_count": 86,
     "metadata": {},
     "output_type": "execute_result"
    },
    {
     "data": {
      "image/png": "[encoded data removed]",
      "text/plain": [
       "<Figure size 432x288 with 1 Axes>"
      ]
     },
     "metadata": {
      "needs_background": "light"
     },
     "output_type": "display_data"
    }
   ],
   "source": [
    "good_plots = gpd.read_file('../data/interim/hj_andrews_good_plots.shp')\n",
    "good_plots.plot()"
   ]
  },
  {
   "cell_type": "code",
   "execution_count": 87,
   "metadata": {},
   "outputs": [
    {
     "data": {
      "text/plain": [
       "21"
      ]
     },
     "execution_count": 87,
     "metadata": {},
     "output_type": "execute_result"
    }
   ],
   "source": [
    "len(good_plots)"
   ]
  },
  {
   "cell_type": "code",
   "execution_count": null,
   "metadata": {},
   "outputs": [],
   "source": [
    "if file_type == 'shp':\n",
    "    df = gpd.read_file...\n",
    "elif file_type == 'csv':\n",
    "    df = pd.read_file...\n",
    "    \n",
    "df[cols] == [my list of columsn]"
   ]
  }
 ],
 "metadata": {
  "kernelspec": {
   "display_name": "Python 3",
   "language": "python",
   "name": "python3"
  },
  "language_info": {
   "codemirror_mode": {
    "name": "ipython",
    "version": 3
   },
   "file_extension": ".py",
   "mimetype": "text/x-python",
   "name": "python",
   "nbconvert_exporter": "python",
   "pygments_lexer": "ipython3",
   "version": "3.6.7"
  }
 },
 "nbformat": 4,
 "nbformat_minor": 2
}
