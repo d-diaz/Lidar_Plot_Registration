{
 "cells": [
  {
   "cell_type": "code",
   "execution_count": 2,
   "metadata": {},
   "outputs": [],
   "source": [
    "import numpy as np\n",
    "import pandas as pd\n",
    "import geopandas as gpd\n",
    "import pdal\n",
    "import ipyvolume as ipv"
   ]
  },
  {
   "cell_type": "code",
   "execution_count": 3,
   "metadata": {},
   "outputs": [],
   "source": [
    "pdal_json = \"\"\"\n",
    "{\n",
    "  \"pipeline\": [\n",
    "    \"../forest3d/tests/sample_data_for_testing/point_cloud.laz\"\n",
    "  ]\n",
    "}\"\"\""
   ]
  },
  {
   "cell_type": "code",
   "execution_count": 4,
   "metadata": {},
   "outputs": [],
   "source": [
    "pipeline = pdal.Pipeline(pdal_json)\n",
    "pipeline.validate() # check if our JSON and options were good\n",
    "pipeline.loglevel = 8 #really noisy\n",
    "count = pipeline.execute()\n",
    "arrays = pipeline.arrays\n",
    "metadata = pipeline.metadata\n",
    "log = pipeline.log"
   ]
  },
  {
   "cell_type": "code",
   "execution_count": 5,
   "metadata": {},
   "outputs": [
    {
     "data": {
      "text/plain": [
       "[array([(562349.98, 4898146.07, 630.1 ,  91, 1, 1, 0, 0, 1, -3., 117,  39,  93012.33013292),\n",
       "        (562349.8 , 4898146.7 , 630.46, 152, 1, 1, 0, 0, 1, -3., 117,  39,  93012.33014305),\n",
       "        (562349.58, 4898147.3 , 630.14, 183, 1, 1, 0, 0, 1, -3., 117,  39,  93012.33015312),\n",
       "        ...,\n",
       "        (562350.31, 4898029.42, 620.91,  76, 1, 2, 0, 0, 1, -5., 255, 105, 244229.54505629),\n",
       "        (562350.14, 4898029.54, 617.65,   0, 2, 2, 0, 0, 1, -5., 255, 105, 244229.54505629),\n",
       "        (562350.23, 4898028.36, 616.87,  12, 1, 1, 1, 0, 1, -5., 255, 105, 244229.55395784)],\n",
       "       dtype=[('X', '<f8'), ('Y', '<f8'), ('Z', '<f8'), ('Intensity', '<u2'), ('ReturnNumber', 'u1'), ('NumberOfReturns', 'u1'), ('ScanDirectionFlag', 'u1'), ('EdgeOfFlightLine', 'u1'), ('Classification', 'u1'), ('ScanAngleRank', '<f4'), ('UserData', 'u1'), ('PointSourceId', '<u2'), ('GpsTime', '<f8')])]"
      ]
     },
     "execution_count": 5,
     "metadata": {},
     "output_type": "execute_result"
    }
   ],
   "source": [
    "arrays"
   ]
  },
  {
   "cell_type": "code",
   "execution_count": 11,
   "metadata": {},
   "outputs": [
    {
     "data": {
      "text/plain": [
       "144358"
      ]
     },
     "execution_count": 11,
     "metadata": {},
     "output_type": "execute_result"
    }
   ],
   "source": [
    "len(arrays[0])"
   ]
  },
  {
   "cell_type": "code",
   "execution_count": 9,
   "metadata": {
    "scrolled": false
   },
   "outputs": [
    {
     "data": {
      "application/vnd.jupyter.widget-view+json": {
       "model_id": "88021136ea684881bf5873ad97513e61",
       "version_major": 2,
       "version_minor": 0
      },
      "text/plain": [
       "VBox(children=(Figure(camera=PerspectiveCamera(fov=46.0, position=(0.0, 0.0, 2.0), quaternion=(0.0, 0.0, 0.0, …"
      ]
     },
     "metadata": {},
     "output_type": "display_data"
    }
   ],
   "source": [
    "tree_scatter = ipv.quickscatter(x=arrays[0]['X'],\n",
    "                 y=arrays[0]['Y'],\n",
    "                 z=arrays[0]['Z'], marker='sphere', size=0.5, color='green')\n",
    "ipv.pylab.xlim(arrays[0]['X'].min(),arrays[0]['X'].max())\n",
    "ipv.pylab.ylim(arrays[0]['Y'].min(),arrays[0]['Y'].max())\n",
    "ipv.pylab.zlim(arrays[0]['Z'].min(),arrays[0]['Z'].max())\n",
    "ipv.show()"
   ]
  }
 ],
 "metadata": {
  "kernelspec": {
   "display_name": "Python 3",
   "language": "python",
   "name": "python3"
  },
  "language_info": {
   "codemirror_mode": {
    "name": "ipython",
    "version": 3
   },
   "file_extension": ".py",
   "mimetype": "text/x-python",
   "name": "python",
   "nbconvert_exporter": "python",
   "pygments_lexer": "ipython3",
   "version": "3.6.7"
  }
 },
 "nbformat": 4,
 "nbformat_minor": 2
}
