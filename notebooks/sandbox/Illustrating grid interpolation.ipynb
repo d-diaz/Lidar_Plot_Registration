{
 "cells": [
  {
   "cell_type": "code",
   "execution_count": 1,
   "metadata": {},
   "outputs": [],
   "source": [
    "import numpy as np\n",
    "import ipyvolume as ipv\n",
    "from forest3d.geometry import Tree\n",
    "from scipy.spatial import cKDTree\n",
    "from scipy.interpolate import RegularGridInterpolator"
   ]
  },
  {
   "cell_type": "code",
   "execution_count": 2,
   "metadata": {},
   "outputs": [],
   "source": [
    "tree_x, tree_y, tree_z = Tree(species='Douglas-fir', \n",
    "                              dbh=15, top_height=150, \n",
    "                              stem_x=0, stem_y=0, stem_z=0,\n",
    "                              crown_shapes=((2.0, 1.5, 1.7, 2.3), (1.3, 1.2, 1.0, 1.1)),\n",
    "                              crown_radii=(5,6,8,7)\n",
    "                             ).get_crown()\n",
    "tree_xs, tree_ys, tree_zs = tree_x.reshape((50,32)), tree_y.reshape((50,32)), tree_z.reshape((50,32))"
   ]
  },
  {
   "cell_type": "code",
   "execution_count": 26,
   "metadata": {},
   "outputs": [],
   "source": [
    "grid_x = np.linspace(tree_x.min()-200, tree_x.max()+200,400)\n",
    "grid_y = np.linspace(tree_y.min()-150, tree_y.max()+150,300)\n",
    "grid_z = np.linspace(-10, tree_z.max()+10,100)\n",
    "grid_xx, grid_yy, grid_zz = np.meshgrid(grid_x,grid_y,grid_z)\n",
    "grid_xs = grid_xx.flatten()\n",
    "grid_ys = grid_yy.flatten()\n",
    "grid_zs = grid_zz.flatten()"
   ]
  },
  {
   "cell_type": "code",
   "execution_count": 16,
   "metadata": {},
   "outputs": [
    {
     "data": {
      "application/vnd.jupyter.widget-view+json": {
       "model_id": "e1cd1bcec05b4a7db0b19e5e50c4cebd",
       "version_major": 2,
       "version_minor": 0
      },
      "text/plain": [
       "VBox(children=(Figure(camera=PerspectiveCamera(fov=46.0, position=(0.0, 0.0, 2.0), quaternion=(0.0, 0.0, 0.0, …"
      ]
     },
     "metadata": {},
     "output_type": "display_data"
    }
   ],
   "source": [
    "ipv.figure(width=800)\n",
    "ipv.scatter(grid_xs, grid_ys, grid_zs, marker=\"sphere\", size=0.75, color='black')\n",
    "# ipv.plot_surface(tree_xs, tree_ys, tree_zs, color=\"green\")\n",
    "ipv.plot_wireframe(tree_xs, tree_ys, tree_zs, color=\"green\")\n",
    "ipv.style.use('minimal')\n",
    "ipv.show()"
   ]
  },
  {
   "cell_type": "code",
   "execution_count": 27,
   "metadata": {},
   "outputs": [],
   "source": [
    "kdtree = cKDTree(data = np.stack((tree_x, tree_y, tree_z)).T)"
   ]
  },
  {
   "cell_type": "code",
   "execution_count": 28,
   "metadata": {},
   "outputs": [],
   "source": [
    "grid_points = np.stack((grid_xs, grid_ys, grid_zs)).T"
   ]
  },
  {
   "cell_type": "code",
   "execution_count": 29,
   "metadata": {},
   "outputs": [],
   "source": [
    "grid_distances = kdtree.query(grid_points)"
   ]
  },
  {
   "cell_type": "code",
   "execution_count": 30,
   "metadata": {},
   "outputs": [],
   "source": [
    "interpolator = RegularGridInterpolator(points = (grid_x,grid_y,grid_z), \n",
    "                                       values = grid_distances[0].reshape(grid_x.shape[0], grid_y.shape[0], grid_z.shape[0]))"
   ]
  },
  {
   "cell_type": "code",
   "execution_count": 31,
   "metadata": {},
   "outputs": [],
   "source": [
    "rand_x = (grid_x.max() - grid_x.min())*np.random.rand(50*32*5000) + grid_x.min()\n",
    "rand_y = (grid_y.max() - grid_y.min())*np.random.rand(50*32*5000) + grid_y.min()\n",
    "rand_z = (grid_z.max() - grid_z.min())*np.random.rand(50*32*5000) + grid_z.min()"
   ]
  },
  {
   "cell_type": "code",
   "execution_count": 20,
   "metadata": {},
   "outputs": [
    {
     "data": {
      "application/vnd.jupyter.widget-view+json": {
       "model_id": "5a6f2ba75966491aba768ab0fd87fa35",
       "version_major": 2,
       "version_minor": 0
      },
      "text/plain": [
       "Scatter(color=array('blue', dtype='<U4'), color_selected=array('white', dtype='<U5'), geo='sphere', line_mater…"
      ]
     },
     "metadata": {},
     "output_type": "display_data"
    }
   ],
   "source": [
    "ipv.scatter(rand_x, rand_y, rand_z, marker='sphere', color='blue', size=4)"
   ]
  },
  {
   "cell_type": "code",
   "execution_count": 34,
   "metadata": {},
   "outputs": [
    {
     "name": "stdout",
     "output_type": "stream",
     "text": [
      "1106924653.5756052\n",
      "CPU times: user 20.8 s, sys: 7.53 s, total: 28.3 s\n",
      "Wall time: 10.4 s\n"
     ]
    }
   ],
   "source": [
    "%%time\n",
    "distances = interpolator((rand_x, rand_y, rand_z))\n",
    "distance_metric = distances.sum()\n",
    "print(distance_metric)"
   ]
  },
  {
   "cell_type": "code",
   "execution_count": 33,
   "metadata": {},
   "outputs": [
    {
     "data": {
      "text/plain": [
       "array([199.24775936, 164.47346178, 152.46416422, ..., 118.77597072,\n",
       "       163.45049417,  63.52945546])"
      ]
     },
     "execution_count": 33,
     "metadata": {},
     "output_type": "execute_result"
    }
   ],
   "source": [
    "distances"
   ]
  },
  {
   "cell_type": "code",
   "execution_count": null,
   "metadata": {},
   "outputs": [],
   "source": []
  }
 ],
 "metadata": {
  "kernelspec": {
   "display_name": "Python 3",
   "language": "python",
   "name": "python3"
  },
  "language_info": {
   "codemirror_mode": {
    "name": "ipython",
    "version": 3
   },
   "file_extension": ".py",
   "mimetype": "text/x-python",
   "name": "python",
   "nbconvert_exporter": "python",
   "pygments_lexer": "ipython3",
   "version": "3.6.7"
  }
 },
 "nbformat": 4,
 "nbformat_minor": 2
}
