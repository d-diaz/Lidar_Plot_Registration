{
 "cells": [
  {
   "cell_type": "code",
   "execution_count": 1,
   "metadata": {},
   "outputs": [],
   "source": [
    "import glob\n",
    "import json\n",
    "import pdal\n",
    "import numpy as np\n",
    "import pandas as pd"
   ]
  },
  {
   "cell_type": "code",
   "execution_count": 2,
   "metadata": {},
   "outputs": [],
   "source": [
    "from src.geometry.geometry import poisson_pipeline, poisson_mesh"
   ]
  },
  {
   "cell_type": "code",
   "execution_count": 3,
   "metadata": {},
   "outputs": [
    {
     "data": {
      "text/plain": [
       "['../data/processed/wind_river/wind_river_elevation.tif',\n",
       " '../data/processed/wind_river/wind_river_plot.laz']"
      ]
     },
     "execution_count": 3,
     "metadata": {},
     "output_type": "execute_result"
    }
   ],
   "source": [
    "glob.glob('../data/processed/wind_river/*.*')"
   ]
  },
  {
   "cell_type": "code",
   "execution_count": 6,
   "metadata": {},
   "outputs": [],
   "source": [
    "poisson_mesh('../data/processed/wind_river/wind_river_plot.laz',\n",
    "             '../data/processed/wind_river/wind_river_plot_B.ply')"
   ]
  },
  {
   "cell_type": "code",
   "execution_count": 9,
   "metadata": {},
   "outputs": [],
   "source": [
    "json_str = json.dumps(poisson_pipeline('../data/processed/wind_river/wind_river_plot.laz',\n",
    "                                       '../data/processed/wind_river/wind_river_plot_A.ply'))"
   ]
  },
  {
   "cell_type": "code",
   "execution_count": 10,
   "metadata": {},
   "outputs": [
    {
     "data": {
      "text/plain": [
       "True"
      ]
     },
     "execution_count": 10,
     "metadata": {},
     "output_type": "execute_result"
    }
   ],
   "source": [
    "pipeline = pdal.Pipeline(json_str)\n",
    "pipeline.validate() # check if our JSON and options were good"
   ]
  },
  {
   "cell_type": "code",
   "execution_count": null,
   "metadata": {},
   "outputs": [],
   "source": [
    "pipeline.loglevel = 8 #really noisy\n",
    "count = pipeline.execute()"
   ]
  },
  {
   "cell_type": "code",
   "execution_count": null,
   "metadata": {},
   "outputs": [],
   "source": [
    "arrays = pipeline.arrays\n",
    "metadata = pipeline.metadata\n",
    "log = pipeline.log"
   ]
  },
  {
   "cell_type": "code",
   "execution_count": null,
   "metadata": {},
   "outputs": [],
   "source": [
    "df = pd.DataFrame(data=arrays[0], columns=arrays[0].dtype.names)\n",
    "df = df[['X', 'Y', 'Z', 'NormalX', 'NormalY', 'NormalZ']]"
   ]
  },
  {
   "cell_type": "code",
   "execution_count": null,
   "metadata": {
    "scrolled": false
   },
   "outputs": [],
   "source": [
    "meta = json.loads(metadata)['metadata']['readers.las'][0]\n",
    "minx, maxx = meta['minx'], meta['maxx']\n",
    "miny, maxy = meta['miny'], meta['maxy']\n",
    "minz, maxz = meta['minz'], meta['maxz']"
   ]
  },
  {
   "cell_type": "code",
   "execution_count": null,
   "metadata": {},
   "outputs": [],
   "source": [
    "df['X'] = minx + (maxx-minx)*df.X\n",
    "df['Y'] = miny + (maxy-miny)*df.Y\n",
    "df['Z'] = minz + (maxz-minz)*df.Z"
   ]
  }
 ],
 "metadata": {
  "kernelspec": {
   "display_name": "Python 3",
   "language": "python",
   "name": "python3"
  },
  "language_info": {
   "codemirror_mode": {
    "name": "ipython",
    "version": 3
   },
   "file_extension": ".py",
   "mimetype": "text/x-python",
   "name": "python",
   "nbconvert_exporter": "python",
   "pygments_lexer": "ipython3",
   "version": "3.6.7"
  }
 },
 "nbformat": 4,
 "nbformat_minor": 2
}
