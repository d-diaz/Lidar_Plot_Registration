{
 "cells": [
  {
   "cell_type": "code",
   "execution_count": 16,
   "metadata": {},
   "outputs": [],
   "source": [
    "from forest3d.geometry import Tree, make_tree_all_params, make_crown, get_hull_apex_and_base\n",
    "from forest3d.visualize import plot_tree_with_widgets"
   ]
  },
  {
   "cell_type": "code",
   "execution_count": 3,
   "metadata": {},
   "outputs": [],
   "source": [
    "%load_ext line_profiler"
   ]
  },
  {
   "cell_type": "code",
   "execution_count": 2,
   "metadata": {},
   "outputs": [],
   "source": [
    "Tree??"
   ]
  },
  {
   "cell_type": "code",
   "execution_count": 6,
   "metadata": {},
   "outputs": [
    {
     "name": "stdout",
     "output_type": "stream",
     "text": [
      " "
     ]
    }
   ],
   "source": [
    "%prun Tree(species='Douglas-fir', dbh=8.6, top_height=75, stem_x=0, stem_y=0, stem_z=0).get_crown()"
   ]
  },
  {
   "cell_type": "code",
   "execution_count": 7,
   "metadata": {},
   "outputs": [
    {
     "name": "stdout",
     "output_type": "stream",
     "text": [
      "889 µs ± 62.5 µs per loop (mean ± std. dev. of 7 runs, 1000 loops each)\n"
     ]
    }
   ],
   "source": [
    "%%timeit \n",
    "Tree(species='Douglas-fir', dbh=8.6, top_height=75, stem_x=0, stem_y=0, stem_z=0).get_crown()"
   ]
  },
  {
   "cell_type": "code",
   "execution_count": 9,
   "metadata": {},
   "outputs": [
    {
     "name": "stdout",
     "output_type": "stream",
     "text": [
      "275 ms ± 10.1 ms per loop (mean ± std. dev. of 7 runs, 1 loop each)\n"
     ]
    }
   ],
   "source": [
    "%%timeit \n",
    "plot_tree_with_widgets()"
   ]
  },
  {
   "cell_type": "code",
   "execution_count": 10,
   "metadata": {},
   "outputs": [
    {
     "name": "stdout",
     "output_type": "stream",
     "text": [
      " "
     ]
    }
   ],
   "source": [
    "%prun plot_tree_with_widgets()"
   ]
  },
  {
   "cell_type": "code",
   "execution_count": null,
   "metadata": {},
   "outputs": [],
   "source": [
    "%%timeit \n",
    "plot_tree_with_widgets()"
   ]
  },
  {
   "cell_type": "code",
   "execution_count": 19,
   "metadata": {},
   "outputs": [],
   "source": [
    "%lprun -f make_tree_all_params make_tree_all_params(species=\"Douglas\",dbh=10.1,top_height=175,stem_x=0,stem_y=0,stem_z=0,lean_direction=0,lean_severity=0,crown_ratio=0.65,crown_radius_E=10,crown_radius_N=10,crown_radius_W=10,crown_radius_S=10,crown_edge_height_E=0.5,crown_edge_height_N=0.3,crown_edge_height_W=0.7,crown_edge_height_S=0.5,shape_top_E=2.0,shape_top_N=1.0,shape_top_W=1.5,shape_top_S=2.5,shape_bot_E=2.0,shape_bot_N=1.0,shape_bot_W=1.5,shape_bot_S=2.0,top_only=False)"
   ]
  },
  {
   "cell_type": "code",
   "execution_count": 20,
   "metadata": {},
   "outputs": [],
   "source": [
    "%lprun -f Tree.get_crown Tree(species='Douglas-fir', dbh=8.6, top_height=75, stem_x=0, stem_y=0, stem_z=0).get_crown()"
   ]
  },
  {
   "cell_type": "code",
   "execution_count": 14,
   "metadata": {},
   "outputs": [],
   "source": [
    "make_crown??"
   ]
  },
  {
   "cell_type": "code",
   "execution_count": 56,
   "metadata": {},
   "outputs": [],
   "source": [
    "%lprun -f make_crown make_crown(stem_base=(0,0,0),top_height=115,crown_ratio=0.65,lean_direction=15,lean_severity=3,crown_radii=(10,10,13,10),crown_edge_heights=(0.3,0.5,0.7,0.5),crown_shapes=((2.0,2.1,1.8,2.5),(1.5,1.8,2.0,2.5)),top_only=False)"
   ]
  },
  {
   "cell_type": "code",
   "execution_count": 35,
   "metadata": {},
   "outputs": [],
   "source": [
    "%lprun -f get_hull_apex_and_base get_hull_apex_and_base((10,10,12,10), 75, 0.65)"
   ]
  }
 ],
 "metadata": {
  "kernelspec": {
   "display_name": "Python 3",
   "language": "python",
   "name": "python3"
  },
  "language_info": {
   "codemirror_mode": {
    "name": "ipython",
    "version": 3
   },
   "file_extension": ".py",
   "mimetype": "text/x-python",
   "name": "python",
   "nbconvert_exporter": "python",
   "pygments_lexer": "ipython3",
   "version": "3.6.7"
  }
 },
 "nbformat": 4,
 "nbformat_minor": 2
}
